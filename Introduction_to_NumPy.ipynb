{
  "nbformat": 4,
  "nbformat_minor": 0,
  "metadata": {
    "colab": {
      "name": "Introduction to NumPy.ipynb",
      "provenance": [],
      "include_colab_link": true
    },
    "kernelspec": {
      "name": "python3",
      "display_name": "Python 3"
    }
  },
  "cells": [
    {
      "cell_type": "markdown",
      "metadata": {
        "id": "view-in-github",
        "colab_type": "text"
      },
      "source": [
        "<a href=\"https://colab.research.google.com/github/awaisniaz/Python-Apis/blob/master/Introduction_to_NumPy.ipynb\" target=\"_parent\"><img src=\"https://colab.research.google.com/assets/colab-badge.svg\" alt=\"Open In Colab\"/></a>"
      ]
    },
    {
      "cell_type": "code",
      "metadata": {
        "id": "PsA35RmXsIFn"
      },
      "source": [
        "import numpy as np\r\n",
        "import matplotlib.pyplot as plt\r\n",
        "import pandas as pd"
      ],
      "execution_count": 1,
      "outputs": []
    },
    {
      "cell_type": "code",
      "metadata": {
        "id": "we4AK3UNwqky"
      },
      "source": [
        "data = pd.read_csv('https://raw.githubusercontent.com/dphi-official/Linear_Regression_Introduction/master/Salary_Data.csv')\r\n",
        "X = data[['YearsExperience']]\r\n",
        "y = data['Salary']\r\n",
        "\r\n",
        "from sklearn.model_selection import train_test_split\r\n",
        "X_train,X_test,y_train,Y_test = train_test_split(X,y,test_size = 0.3,random_state=47)\r\n",
        "\r\n",
        "from sklearn.linear_model import LinearRegression\r\n",
        "\r\n",
        "linear_regressor = LinearRegression()\r\n",
        "\r\n",
        "linear_regressor.fit(X_train,y_train)\r\n",
        "\r\n",
        "linear_regressor.intercept_"
      ],
      "execution_count": null,
      "outputs": []
    },
    {
      "cell_type": "code",
      "metadata": {
        "id": "iQbWTeEqzrDS",
        "outputId": "6871ce6f-d150-43df-fb52-d1831156b9a0",
        "colab": {
          "base_uri": "https://localhost:8080/",
          "height": 265
        }
      },
      "source": [
        "y_pred = linear_regressor.predict(X_test)\r\n",
        "\r\n",
        "\r\n",
        "plt.plot(X_test,Y_test ,'r*')\r\n",
        "plt.plot(X_test,y_pred,color='black')\r\n",
        "plt.show()"
      ],
      "execution_count": 13,
      "outputs": [
        {
          "output_type": "display_data",
          "data": {
            "image/png": "[encoded data removed]",
            "text/plain": [
              "<Figure size 432x288 with 1 Axes>"
            ]
          },
          "metadata": {
            "tags": [],
            "needs_background": "light"
          }
        }
      ]
    }
  ]
}